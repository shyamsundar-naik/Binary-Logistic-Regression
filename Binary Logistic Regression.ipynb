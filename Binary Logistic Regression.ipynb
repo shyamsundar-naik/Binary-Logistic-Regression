{
 "cells": [
  {
   "cell_type": "markdown",
   "metadata": {},
   "source": [
    "# Binary Logistic Regression\n",
    "\n",
    "#### What is a Regression?\n",
    "#### Regression is form of predictive modelling technique which investigates the relationship between dependent (target) variables and independent variables.\n",
    "#### For Example relationship between rash driving and number of road accidents by a driver is best studied through Regression.\n",
    "## Logistic Regression\n",
    "#### Logistic Regression is used to find the probability of event of success and event of failure. Use logistic regression when the dependent variable is binary (0/1, True/False) in nature. Here the output ranges from 0 to 1.\n",
    "Main things to keep in the mind are\n",
    "1. Used in classification problems.\n",
    "2. Doesn't require linear relationship between dependent & independent variables.\n",
    "3. The independent variables should not be corrrelated with each other i.e., no multi collineraity. However we have options to include the interaction effects of categorical variable in the analysis and in the model.\n",
    "4. If the values of dependent variable are ordinal then it called as ordinal logistic regression.\n",
    "5. If the dependent variable is multi class then it known as multinominal logistic regression."
   ]
  },
  {
   "cell_type": "markdown",
   "metadata": {},
   "source": [
    "###### We will work on the titanic dataset and explain, you below step by step as the using different variables and exploring data "
   ]
  },
  {
   "cell_type": "code",
   "execution_count": 36,
   "metadata": {},
   "outputs": [],
   "source": [
    "#First basic libraries for the exploring the data\n",
    "import pandas as pd\n",
    "import numpy as np\n",
    "#Second libraries for the ploting the graph\n",
    "import matplotlib.pyplot as plt\n",
    "#Third libraries for the Logistic Regression\n",
    "from sklearn import preprocessing\n",
    "from sklearn.linear_model import LogisticRegression\n",
    "from sklearn.cross_validation import train_test_split\n",
    "#Fourth  provides a high-level interface for drawing attractive and informative statistical graphics.\n",
    "import seaborn as sns\n",
    "sns.set(style=\"white\")\n",
    "sns.set(style=\"whitegrid\", color_codes=True)"
   ]
  },
  {
   "cell_type": "markdown",
   "metadata": {},
   "source": [
    "#### Read the data from CSV file and we will explore our data"
   ]
  },
  {
   "cell_type": "code",
   "execution_count": 67,
   "metadata": {},
   "outputs": [],
   "source": [
    "data = pd.read_csv(\"titanic3.csv\")"
   ]
  },
  {
   "cell_type": "code",
   "execution_count": 68,
   "metadata": {},
   "outputs": [
    {
     "name": "stdout",
     "output_type": "stream",
     "text": [
      "<class 'pandas.core.frame.DataFrame'>\n",
      "RangeIndex: 1310 entries, 0 to 1309\n",
      "Data columns (total 14 columns):\n",
      "pclass       1309 non-null float64\n",
      "survived     1309 non-null float64\n",
      "name         1309 non-null object\n",
      "sex          1309 non-null object\n",
      "age          1046 non-null float64\n",
      "sibsp        1309 non-null float64\n",
      "parch        1309 non-null float64\n",
      "ticket       1309 non-null object\n",
      "fare         1308 non-null float64\n",
      "cabin        295 non-null object\n",
      "embarked     1307 non-null object\n",
      "boat         486 non-null object\n",
      "body         121 non-null float64\n",
      "home.dest    745 non-null object\n",
      "dtypes: float64(7), object(7)\n",
      "memory usage: 143.4+ KB\n"
     ]
    }
   ],
   "source": [
    "data.info()"
   ]
  },
  {
   "cell_type": "markdown",
   "metadata": {},
   "source": [
    "#### We can see that there are 14 columns and 1310 row. When we check each individual variable we do not have complete 1310 rows filled.So let us check how many are empty. "
   ]
  },
  {
   "cell_type": "code",
   "execution_count": 69,
   "metadata": {},
   "outputs": [
    {
     "data": {
      "text/plain": [
       "pclass          1\n",
       "survived        1\n",
       "name            1\n",
       "sex             1\n",
       "age           264\n",
       "sibsp           1\n",
       "parch           1\n",
       "ticket          1\n",
       "fare            2\n",
       "cabin        1015\n",
       "embarked        3\n",
       "boat          824\n",
       "body         1189\n",
       "home.dest     565\n",
       "dtype: int64"
      ]
     },
     "execution_count": 69,
     "metadata": {},
     "output_type": "execute_result"
    }
   ],
   "source": [
    "data.isnull().sum()"
   ]
  },
  {
   "cell_type": "markdown",
   "metadata": {},
   "source": [
    "### We can see that all variables are not filled. But when we see that number of empty places in few variables like cabin, boat, body and home.dest are many. So we do not have complete information for this variables. Let us see in this data what can we fill."
   ]
  },
  {
   "cell_type": "code",
   "execution_count": 70,
   "metadata": {},
   "outputs": [
    {
     "data": {
      "text/plain": [
       "array([ 1.,  2.,  3., nan])"
      ]
     },
     "execution_count": 70,
     "metadata": {},
     "output_type": "execute_result"
    }
   ],
   "source": [
    "data['pclass'].unique()"
   ]
  },
  {
   "cell_type": "markdown",
   "metadata": {},
   "source": [
    "#### We can see that this variable has only three kinds of values so we can classify this in the categorical. Same way we will classify other variables into continous and categorical. We will fill values for categorical with most appearing and for continous we will fill the mean value."
   ]
  },
  {
   "cell_type": "code",
   "execution_count": 71,
   "metadata": {},
   "outputs": [
    {
     "data": {
      "text/plain": [
       "3.0    709\n",
       "1.0    323\n",
       "2.0    277\n",
       "Name: pclass, dtype: int64"
      ]
     },
     "execution_count": 71,
     "metadata": {},
     "output_type": "execute_result"
    }
   ],
   "source": [
    "data['pclass'].value_counts()"
   ]
  },
  {
   "cell_type": "code",
   "execution_count": 72,
   "metadata": {},
   "outputs": [],
   "source": [
    "data['pclass'].fillna(3.0,inplace=True)"
   ]
  },
  {
   "cell_type": "markdown",
   "metadata": {},
   "source": [
    "data['name'].unique()"
   ]
  },
  {
   "cell_type": "code",
   "execution_count": 73,
   "metadata": {},
   "outputs": [
    {
     "data": {
      "text/plain": [
       "array(['Allen, Miss. Elisabeth Walton', 'Allison, Master. Hudson Trevor',\n",
       "       'Allison, Miss. Helen Loraine', ..., 'Zakarian, Mr. Ortin',\n",
       "       'Zimmerman, Mr. Leo', nan], dtype=object)"
      ]
     },
     "execution_count": 73,
     "metadata": {},
     "output_type": "execute_result"
    }
   ],
   "source": [
    "data['name'].unique()"
   ]
  },
  {
   "cell_type": "markdown",
   "metadata": {},
   "source": [
    "There are lot of unique values so we cannot consider this for summarization of the given data. "
   ]
  },
  {
   "cell_type": "code",
   "execution_count": 74,
   "metadata": {},
   "outputs": [
    {
     "data": {
      "text/plain": [
       "male      843\n",
       "female    466\n",
       "Name: sex, dtype: int64"
      ]
     },
     "execution_count": 74,
     "metadata": {},
     "output_type": "execute_result"
    }
   ],
   "source": [
    "data['sex'].value_counts()"
   ]
  },
  {
   "cell_type": "code",
   "execution_count": 75,
   "metadata": {},
   "outputs": [],
   "source": [
    "data['sex'].fillna('male',inplace=True)"
   ]
  },
  {
   "cell_type": "code",
   "execution_count": 76,
   "metadata": {},
   "outputs": [],
   "source": [
    "data['age'].fillna(data['age'].mean(),inplace=True)"
   ]
  },
  {
   "cell_type": "code",
   "execution_count": 77,
   "metadata": {},
   "outputs": [
    {
     "data": {
      "text/plain": [
       "0.0    891\n",
       "1.0    319\n",
       "2.0     42\n",
       "4.0     22\n",
       "3.0     20\n",
       "8.0      9\n",
       "5.0      6\n",
       "Name: sibsp, dtype: int64"
      ]
     },
     "execution_count": 77,
     "metadata": {},
     "output_type": "execute_result"
    }
   ],
   "source": [
    "data['sibsp'].value_counts()"
   ]
  },
  {
   "cell_type": "code",
   "execution_count": 78,
   "metadata": {},
   "outputs": [],
   "source": [
    "data['sibsp'].fillna(0.0,inplace=True)"
   ]
  },
  {
   "cell_type": "code",
   "execution_count": 79,
   "metadata": {},
   "outputs": [
    {
     "data": {
      "text/plain": [
       "0.0    1002\n",
       "1.0     170\n",
       "2.0     113\n",
       "3.0       8\n",
       "5.0       6\n",
       "4.0       6\n",
       "9.0       2\n",
       "6.0       2\n",
       "Name: parch, dtype: int64"
      ]
     },
     "execution_count": 79,
     "metadata": {},
     "output_type": "execute_result"
    }
   ],
   "source": [
    "data['parch'].value_counts()"
   ]
  },
  {
   "cell_type": "code",
   "execution_count": 80,
   "metadata": {},
   "outputs": [],
   "source": [
    "data['parch'].fillna(0.0,inplace=True)"
   ]
  },
  {
   "cell_type": "code",
   "execution_count": 10,
   "metadata": {},
   "outputs": [
    {
     "data": {
      "text/plain": [
       "33.29547928134572"
      ]
     },
     "execution_count": 10,
     "metadata": {},
     "output_type": "execute_result"
    }
   ],
   "source": [
    "data['fare'].mean()"
   ]
  },
  {
   "cell_type": "code",
   "execution_count": 81,
   "metadata": {},
   "outputs": [],
   "source": [
    "data['fare'].fillna(data['fare'].mean(),inplace=True)"
   ]
  },
  {
   "cell_type": "markdown",
   "metadata": {},
   "source": [
    "### We can see that cabin data not making that great sense in generalizing the data"
   ]
  },
  {
   "cell_type": "code",
   "execution_count": 82,
   "metadata": {},
   "outputs": [
    {
     "data": {
      "text/plain": [
       "S    914\n",
       "C    270\n",
       "Q    123\n",
       "Name: embarked, dtype: int64"
      ]
     },
     "execution_count": 82,
     "metadata": {},
     "output_type": "execute_result"
    }
   ],
   "source": [
    "data['embarked'].value_counts()"
   ]
  },
  {
   "cell_type": "code",
   "execution_count": 83,
   "metadata": {},
   "outputs": [],
   "source": [
    "data['embarked'].fillna('S',inplace=True)"
   ]
  },
  {
   "cell_type": "code",
   "execution_count": 15,
   "metadata": {},
   "outputs": [
    {
     "data": {
      "text/plain": [
       "824"
      ]
     },
     "execution_count": 15,
     "metadata": {},
     "output_type": "execute_result"
    }
   ],
   "source": [
    "data['boat'].isnull().sum()"
   ]
  },
  {
   "cell_type": "code",
   "execution_count": 84,
   "metadata": {},
   "outputs": [
    {
     "data": {
      "text/plain": [
       "array([29.        ,  0.9167    ,  2.        , 30.        , 25.        ,\n",
       "       48.        , 63.        , 39.        , 53.        , 71.        ,\n",
       "       47.        , 18.        , 24.        , 26.        , 80.        ,\n",
       "       29.88113451, 50.        , 32.        , 36.        , 37.        ,\n",
       "       42.        , 19.        , 35.        , 28.        , 45.        ,\n",
       "       40.        , 58.        , 22.        , 41.        , 44.        ,\n",
       "       59.        , 60.        , 33.        , 17.        , 11.        ,\n",
       "       14.        , 49.        , 76.        , 46.        , 27.        ,\n",
       "       64.        , 55.        , 70.        , 38.        , 51.        ,\n",
       "       31.        ,  4.        , 54.        , 23.        , 43.        ,\n",
       "       52.        , 16.        , 32.5       , 21.        , 15.        ,\n",
       "       65.        , 28.5       , 45.5       , 56.        , 13.        ,\n",
       "       61.        , 34.        ,  6.        , 57.        , 62.        ,\n",
       "       67.        ,  1.        , 12.        , 20.        ,  0.8333    ,\n",
       "        8.        ,  0.6667    ,  7.        ,  3.        , 36.5       ,\n",
       "       18.5       ,  5.        , 66.        ,  9.        ,  0.75      ,\n",
       "       70.5       , 22.5       ,  0.3333    ,  0.1667    , 40.5       ,\n",
       "       10.        , 23.5       , 34.5       , 20.5       , 30.5       ,\n",
       "       55.5       , 38.5       , 14.5       , 24.5       , 60.5       ,\n",
       "       74.        ,  0.4167    , 11.5       , 26.5       ])"
      ]
     },
     "execution_count": 84,
     "metadata": {},
     "output_type": "execute_result"
    }
   ],
   "source": [
    "data['age'].unique()"
   ]
  },
  {
   "cell_type": "markdown",
   "metadata": {},
   "source": [
    "#### This information seems to be very less to generalize the data. "
   ]
  },
  {
   "cell_type": "code",
   "execution_count": 85,
   "metadata": {},
   "outputs": [
    {
     "data": {
      "text/plain": [
       "array([ nan, 135.,  22., 124., 148., 208., 172., 269.,  62., 133., 275.,\n",
       "       147., 110., 307.,  38.,  80.,  45., 258., 126., 292., 175., 249.,\n",
       "       230., 122., 263., 234., 189., 166., 207., 232.,  16., 109.,  96.,\n",
       "        46., 245., 169., 174.,  97.,  18., 130.,  17., 295., 286., 236.,\n",
       "       322., 297., 155., 305.,  19.,  75.,  35., 256., 149., 283., 165.,\n",
       "       108., 121.,  52., 209., 271.,  43.,  15., 101., 287.,  81., 294.,\n",
       "       293., 190.,  72., 103.,  79., 259., 260., 142., 299., 171.,   9.,\n",
       "       197.,  51., 187.,  68.,  47.,  98., 188.,  69., 306., 120., 143.,\n",
       "       156., 285.,  37.,  58.,  70., 196., 153.,  61.,  53., 201., 309.,\n",
       "       181., 173.,  89.,   4., 206., 327., 119.,   7.,  32.,  67., 284.,\n",
       "       261., 176.,  50.,   1., 255., 298., 314.,  14., 131., 312., 328.,\n",
       "       304.])"
      ]
     },
     "execution_count": 85,
     "metadata": {},
     "output_type": "execute_result"
    }
   ],
   "source": [
    "data['body'].unique()"
   ]
  },
  {
   "cell_type": "code",
   "execution_count": 19,
   "metadata": {},
   "outputs": [
    {
     "data": {
      "text/plain": [
       "1189"
      ]
     },
     "execution_count": 19,
     "metadata": {},
     "output_type": "execute_result"
    }
   ],
   "source": [
    "data['body'].isnull().sum()"
   ]
  },
  {
   "cell_type": "markdown",
   "metadata": {},
   "source": [
    "#### I could have used the body for generalization of data but as the information is very very less as you can see only 200 values are filled so I can avoid this variable."
   ]
  },
  {
   "cell_type": "code",
   "execution_count": 20,
   "metadata": {},
   "outputs": [
    {
     "data": {
      "text/plain": [
       "565"
      ]
     },
     "execution_count": 20,
     "metadata": {},
     "output_type": "execute_result"
    }
   ],
   "source": [
    "data['home.dest'].isnull().sum()"
   ]
  },
  {
   "cell_type": "code",
   "execution_count": 51,
   "metadata": {},
   "outputs": [
    {
     "name": "stdout",
     "output_type": "stream",
     "text": [
      "<class 'pandas.core.frame.DataFrame'>\n",
      "RangeIndex: 1310 entries, 0 to 1309\n",
      "Data columns (total 14 columns):\n",
      "pclass       1310 non-null float64\n",
      "survived     1309 non-null float64\n",
      "name         1309 non-null object\n",
      "sex          1310 non-null object\n",
      "age          1310 non-null object\n",
      "sibsp        1310 non-null float64\n",
      "parch        1310 non-null float64\n",
      "ticket       1309 non-null object\n",
      "fare         1310 non-null float64\n",
      "cabin        295 non-null object\n",
      "embarked     1310 non-null object\n",
      "boat         486 non-null object\n",
      "body         121 non-null float64\n",
      "home.dest    745 non-null object\n",
      "dtypes: float64(6), object(8)\n",
      "memory usage: 143.4+ KB\n"
     ]
    }
   ],
   "source": [
    "data.info()"
   ]
  },
  {
   "cell_type": "code",
   "execution_count": 86,
   "metadata": {},
   "outputs": [],
   "source": [
    "data['survived'].fillna(1.0,inplace=True)"
   ]
  },
  {
   "cell_type": "markdown",
   "metadata": {},
   "source": [
    "##### I see that information available in the home dest would not be useful. "
   ]
  },
  {
   "cell_type": "markdown",
   "metadata": {},
   "source": [
    "##### So we will be using pclass, survived, age, sex, sibsp, parch, ticket, fare and embarked in our further analysis."
   ]
  },
  {
   "cell_type": "code",
   "execution_count": 87,
   "metadata": {},
   "outputs": [],
   "source": [
    "data.drop(data.columns[[2,7,9,11,12,13]],axis=1,inplace=True)"
   ]
  },
  {
   "cell_type": "code",
   "execution_count": 88,
   "metadata": {},
   "outputs": [
    {
     "name": "stdout",
     "output_type": "stream",
     "text": [
      "<class 'pandas.core.frame.DataFrame'>\n",
      "RangeIndex: 1310 entries, 0 to 1309\n",
      "Data columns (total 8 columns):\n",
      "pclass      1310 non-null float64\n",
      "survived    1310 non-null float64\n",
      "sex         1310 non-null object\n",
      "age         1310 non-null float64\n",
      "sibsp       1310 non-null float64\n",
      "parch       1310 non-null float64\n",
      "fare        1310 non-null float64\n",
      "embarked    1310 non-null object\n",
      "dtypes: float64(6), object(2)\n",
      "memory usage: 82.0+ KB\n"
     ]
    }
   ],
   "source": [
    "data.info()"
   ]
  },
  {
   "cell_type": "code",
   "execution_count": 89,
   "metadata": {},
   "outputs": [],
   "source": [
    "data2 = pd.get_dummies(data, columns =[\"sex\",\"pclass\",\"sibsp\",\"parch\",\"embarked\"])"
   ]
  },
  {
   "cell_type": "code",
   "execution_count": 90,
   "metadata": {},
   "outputs": [
    {
     "data": {
      "text/html": [
       "<div>\n",
       "<style scoped>\n",
       "    .dataframe tbody tr th:only-of-type {\n",
       "        vertical-align: middle;\n",
       "    }\n",
       "\n",
       "    .dataframe tbody tr th {\n",
       "        vertical-align: top;\n",
       "    }\n",
       "\n",
       "    .dataframe thead th {\n",
       "        text-align: right;\n",
       "    }\n",
       "</style>\n",
       "<table border=\"1\" class=\"dataframe\">\n",
       "  <thead>\n",
       "    <tr style=\"text-align: right;\">\n",
       "      <th></th>\n",
       "      <th>survived</th>\n",
       "      <th>age</th>\n",
       "      <th>fare</th>\n",
       "      <th>sex_female</th>\n",
       "      <th>sex_male</th>\n",
       "      <th>pclass_1.0</th>\n",
       "      <th>pclass_2.0</th>\n",
       "      <th>pclass_3.0</th>\n",
       "      <th>sibsp_0.0</th>\n",
       "      <th>sibsp_1.0</th>\n",
       "      <th>...</th>\n",
       "      <th>parch_1.0</th>\n",
       "      <th>parch_2.0</th>\n",
       "      <th>parch_3.0</th>\n",
       "      <th>parch_4.0</th>\n",
       "      <th>parch_5.0</th>\n",
       "      <th>parch_6.0</th>\n",
       "      <th>parch_9.0</th>\n",
       "      <th>embarked_C</th>\n",
       "      <th>embarked_Q</th>\n",
       "      <th>embarked_S</th>\n",
       "    </tr>\n",
       "  </thead>\n",
       "  <tbody>\n",
       "    <tr>\n",
       "      <th>survived</th>\n",
       "      <td>1.000000</td>\n",
       "      <td>-5.016801e-02</td>\n",
       "      <td>0.244057</td>\n",
       "      <td>0.527534</td>\n",
       "      <td>-0.527534</td>\n",
       "      <td>0.278686</td>\n",
       "      <td>0.050251</td>\n",
       "      <td>-0.282269</td>\n",
       "      <td>-0.104933</td>\n",
       "      <td>0.150051</td>\n",
       "      <td>...</td>\n",
       "      <td>0.163523</td>\n",
       "      <td>0.077120</td>\n",
       "      <td>0.039123</td>\n",
       "      <td>-0.030117</td>\n",
       "      <td>-0.030117</td>\n",
       "      <td>-0.030772</td>\n",
       "      <td>-3.077200e-02</td>\n",
       "      <td>0.181498</td>\n",
       "      <td>-0.016373</td>\n",
       "      <td>-0.149789</td>\n",
       "    </tr>\n",
       "    <tr>\n",
       "      <th>age</th>\n",
       "      <td>-0.050168</td>\n",
       "      <td>1.000000e+00</td>\n",
       "      <td>0.171521</td>\n",
       "      <td>-0.057386</td>\n",
       "      <td>0.057386</td>\n",
       "      <td>0.362541</td>\n",
       "      <td>-0.014192</td>\n",
       "      <td>-0.301996</td>\n",
       "      <td>0.090684</td>\n",
       "      <td>0.045528</td>\n",
       "      <td>...</td>\n",
       "      <td>-0.138778</td>\n",
       "      <td>-0.223422</td>\n",
       "      <td>0.054764</td>\n",
       "      <td>0.077804</td>\n",
       "      <td>0.049806</td>\n",
       "      <td>0.035293</td>\n",
       "      <td>-1.383376e-17</td>\n",
       "      <td>0.076171</td>\n",
       "      <td>-0.012718</td>\n",
       "      <td>-0.059143</td>\n",
       "    </tr>\n",
       "    <tr>\n",
       "      <th>fare</th>\n",
       "      <td>0.244057</td>\n",
       "      <td>1.715206e-01</td>\n",
       "      <td>1.000000</td>\n",
       "      <td>0.185445</td>\n",
       "      <td>-0.185445</td>\n",
       "      <td>0.599881</td>\n",
       "      <td>-0.121360</td>\n",
       "      <td>-0.419481</td>\n",
       "      <td>-0.211728</td>\n",
       "      <td>0.169176</td>\n",
       "      <td>...</td>\n",
       "      <td>0.125358</td>\n",
       "      <td>0.166706</td>\n",
       "      <td>0.080954</td>\n",
       "      <td>0.093718</td>\n",
       "      <td>-0.001232</td>\n",
       "      <td>0.010290</td>\n",
       "      <td>2.742130e-02</td>\n",
       "      <td>0.286212</td>\n",
       "      <td>-0.130049</td>\n",
       "      <td>-0.169866</td>\n",
       "    </tr>\n",
       "    <tr>\n",
       "      <th>sex_female</th>\n",
       "      <td>0.527534</td>\n",
       "      <td>-5.738563e-02</td>\n",
       "      <td>0.185445</td>\n",
       "      <td>1.000000</td>\n",
       "      <td>-1.000000</td>\n",
       "      <td>0.107659</td>\n",
       "      <td>0.029147</td>\n",
       "      <td>-0.117022</td>\n",
       "      <td>-0.189198</td>\n",
       "      <td>0.172842</td>\n",
       "      <td>...</td>\n",
       "      <td>0.130612</td>\n",
       "      <td>0.163591</td>\n",
       "      <td>0.064557</td>\n",
       "      <td>0.044058</td>\n",
       "      <td>0.044058</td>\n",
       "      <td>0.011784</td>\n",
       "      <td>1.178443e-02</td>\n",
       "      <td>0.066832</td>\n",
       "      <td>0.088812</td>\n",
       "      <td>-0.115522</td>\n",
       "    </tr>\n",
       "    <tr>\n",
       "      <th>sex_male</th>\n",
       "      <td>-0.527534</td>\n",
       "      <td>5.738563e-02</td>\n",
       "      <td>-0.185445</td>\n",
       "      <td>-1.000000</td>\n",
       "      <td>1.000000</td>\n",
       "      <td>-0.107659</td>\n",
       "      <td>-0.029147</td>\n",
       "      <td>0.117022</td>\n",
       "      <td>0.189198</td>\n",
       "      <td>-0.172842</td>\n",
       "      <td>...</td>\n",
       "      <td>-0.130612</td>\n",
       "      <td>-0.163591</td>\n",
       "      <td>-0.064557</td>\n",
       "      <td>-0.044058</td>\n",
       "      <td>-0.044058</td>\n",
       "      <td>-0.011784</td>\n",
       "      <td>-1.178443e-02</td>\n",
       "      <td>-0.066832</td>\n",
       "      <td>-0.088812</td>\n",
       "      <td>0.115522</td>\n",
       "    </tr>\n",
       "    <tr>\n",
       "      <th>pclass_1.0</th>\n",
       "      <td>0.278686</td>\n",
       "      <td>3.625414e-01</td>\n",
       "      <td>0.599881</td>\n",
       "      <td>0.107659</td>\n",
       "      <td>-0.107659</td>\n",
       "      <td>1.000000</td>\n",
       "      <td>-0.296232</td>\n",
       "      <td>-0.622295</td>\n",
       "      <td>-0.083348</td>\n",
       "      <td>0.141727</td>\n",
       "      <td>...</td>\n",
       "      <td>0.042605</td>\n",
       "      <td>-0.005437</td>\n",
       "      <td>0.000625</td>\n",
       "      <td>0.013656</td>\n",
       "      <td>-0.038804</td>\n",
       "      <td>-0.022369</td>\n",
       "      <td>-2.236937e-02</td>\n",
       "      <td>0.325871</td>\n",
       "      <td>-0.165933</td>\n",
       "      <td>-0.182034</td>\n",
       "    </tr>\n",
       "    <tr>\n",
       "      <th>pclass_2.0</th>\n",
       "      <td>0.050251</td>\n",
       "      <td>-1.419151e-02</td>\n",
       "      <td>-0.121360</td>\n",
       "      <td>0.029147</td>\n",
       "      <td>-0.029147</td>\n",
       "      <td>-0.296232</td>\n",
       "      <td>1.000000</td>\n",
       "      <td>-0.563305</td>\n",
       "      <td>-0.026525</td>\n",
       "      <td>0.063363</td>\n",
       "      <td>...</td>\n",
       "      <td>0.039238</td>\n",
       "      <td>0.007365</td>\n",
       "      <td>0.031396</td>\n",
       "      <td>-0.035126</td>\n",
       "      <td>-0.035126</td>\n",
       "      <td>-0.020249</td>\n",
       "      <td>-2.024887e-02</td>\n",
       "      <td>-0.134447</td>\n",
       "      <td>-0.121828</td>\n",
       "      <td>0.196221</td>\n",
       "    </tr>\n",
       "    <tr>\n",
       "      <th>pclass_3.0</th>\n",
       "      <td>-0.282269</td>\n",
       "      <td>-3.019955e-01</td>\n",
       "      <td>-0.419481</td>\n",
       "      <td>-0.117022</td>\n",
       "      <td>0.117022</td>\n",
       "      <td>-0.622295</td>\n",
       "      <td>-0.563305</td>\n",
       "      <td>1.000000</td>\n",
       "      <td>0.093842</td>\n",
       "      <td>-0.174535</td>\n",
       "      <td>...</td>\n",
       "      <td>-0.069015</td>\n",
       "      <td>-0.001333</td>\n",
       "      <td>-0.026271</td>\n",
       "      <td>0.016975</td>\n",
       "      <td>0.062357</td>\n",
       "      <td>0.035947</td>\n",
       "      <td>3.594658e-02</td>\n",
       "      <td>-0.171716</td>\n",
       "      <td>0.243392</td>\n",
       "      <td>-0.003343</td>\n",
       "    </tr>\n",
       "    <tr>\n",
       "      <th>sibsp_0.0</th>\n",
       "      <td>-0.104933</td>\n",
       "      <td>9.068370e-02</td>\n",
       "      <td>-0.211728</td>\n",
       "      <td>-0.189198</td>\n",
       "      <td>0.189198</td>\n",
       "      <td>-0.083348</td>\n",
       "      <td>-0.026525</td>\n",
       "      <td>0.093842</td>\n",
       "      <td>1.000000</td>\n",
       "      <td>-0.828806</td>\n",
       "      <td>...</td>\n",
       "      <td>-0.310701</td>\n",
       "      <td>-0.198003</td>\n",
       "      <td>-0.072466</td>\n",
       "      <td>-0.050582</td>\n",
       "      <td>-0.050582</td>\n",
       "      <td>-0.057122</td>\n",
       "      <td>-5.712226e-02</td>\n",
       "      <td>-0.052013</td>\n",
       "      <td>0.091223</td>\n",
       "      <td>-0.012151</td>\n",
       "    </tr>\n",
       "    <tr>\n",
       "      <th>sibsp_1.0</th>\n",
       "      <td>0.150051</td>\n",
       "      <td>4.552753e-02</td>\n",
       "      <td>0.169176</td>\n",
       "      <td>0.172842</td>\n",
       "      <td>-0.172842</td>\n",
       "      <td>0.141727</td>\n",
       "      <td>0.063363</td>\n",
       "      <td>-0.174535</td>\n",
       "      <td>-0.828806</td>\n",
       "      <td>1.000000</td>\n",
       "      <td>...</td>\n",
       "      <td>0.257232</td>\n",
       "      <td>0.009396</td>\n",
       "      <td>0.069672</td>\n",
       "      <td>0.066877</td>\n",
       "      <td>0.066877</td>\n",
       "      <td>0.068921</td>\n",
       "      <td>6.892117e-02</td>\n",
       "      <td>0.106632</td>\n",
       "      <td>-0.097269</td>\n",
       "      <td>-0.032213</td>\n",
       "    </tr>\n",
       "    <tr>\n",
       "      <th>sibsp_2.0</th>\n",
       "      <td>0.026191</td>\n",
       "      <td>-7.648424e-02</td>\n",
       "      <td>0.055075</td>\n",
       "      <td>0.036745</td>\n",
       "      <td>-0.036745</td>\n",
       "      <td>-0.023684</td>\n",
       "      <td>0.033100</td>\n",
       "      <td>-0.006639</td>\n",
       "      <td>-0.265864</td>\n",
       "      <td>-0.103258</td>\n",
       "      <td>...</td>\n",
       "      <td>0.045771</td>\n",
       "      <td>0.036690</td>\n",
       "      <td>0.041355</td>\n",
       "      <td>-0.012345</td>\n",
       "      <td>-0.012345</td>\n",
       "      <td>-0.007117</td>\n",
       "      <td>-7.116659e-03</td>\n",
       "      <td>0.003680</td>\n",
       "      <td>0.000839</td>\n",
       "      <td>-0.003782</td>\n",
       "    </tr>\n",
       "    <tr>\n",
       "      <th>sibsp_3.0</th>\n",
       "      <td>-0.021123</td>\n",
       "      <td>-1.049915e-01</td>\n",
       "      <td>0.091609</td>\n",
       "      <td>0.063534</td>\n",
       "      <td>-0.063534</td>\n",
       "      <td>-0.013452</td>\n",
       "      <td>-0.049231</td>\n",
       "      <td>0.051985</td>\n",
       "      <td>-0.181892</td>\n",
       "      <td>-0.070645</td>\n",
       "      <td>...</td>\n",
       "      <td>0.118652</td>\n",
       "      <td>0.139148</td>\n",
       "      <td>-0.009760</td>\n",
       "      <td>-0.008446</td>\n",
       "      <td>-0.008446</td>\n",
       "      <td>-0.004869</td>\n",
       "      <td>-4.868905e-03</td>\n",
       "      <td>-0.063443</td>\n",
       "      <td>-0.040082</td>\n",
       "      <td>0.081514</td>\n",
       "    </tr>\n",
       "    <tr>\n",
       "      <th>sibsp_4.0</th>\n",
       "      <td>-0.066177</td>\n",
       "      <td>-2.142974e-01</td>\n",
       "      <td>-0.006828</td>\n",
       "      <td>-0.010249</td>\n",
       "      <td>0.010249</td>\n",
       "      <td>-0.074765</td>\n",
       "      <td>-0.067677</td>\n",
       "      <td>0.120143</td>\n",
       "      <td>-0.190918</td>\n",
       "      <td>-0.074150</td>\n",
       "      <td>...</td>\n",
       "      <td>0.126308</td>\n",
       "      <td>0.213764</td>\n",
       "      <td>-0.010245</td>\n",
       "      <td>-0.008865</td>\n",
       "      <td>-0.008865</td>\n",
       "      <td>-0.005111</td>\n",
       "      <td>-5.110513e-03</td>\n",
       "      <td>-0.066591</td>\n",
       "      <td>0.059764</td>\n",
       "      <td>0.020742</td>\n",
       "    </tr>\n",
       "    <tr>\n",
       "      <th>sibsp_5.0</th>\n",
       "      <td>-0.053380</td>\n",
       "      <td>-1.038795e-01</td>\n",
       "      <td>0.017850</td>\n",
       "      <td>-0.003173</td>\n",
       "      <td>0.003173</td>\n",
       "      <td>-0.038804</td>\n",
       "      <td>-0.035126</td>\n",
       "      <td>0.062357</td>\n",
       "      <td>-0.099090</td>\n",
       "      <td>-0.038485</td>\n",
       "      <td>...</td>\n",
       "      <td>-0.026194</td>\n",
       "      <td>0.220772</td>\n",
       "      <td>-0.005317</td>\n",
       "      <td>-0.004601</td>\n",
       "      <td>-0.004601</td>\n",
       "      <td>-0.002652</td>\n",
       "      <td>-2.652455e-03</td>\n",
       "      <td>-0.034562</td>\n",
       "      <td>-0.021836</td>\n",
       "      <td>0.044407</td>\n",
       "    </tr>\n",
       "    <tr>\n",
       "      <th>sibsp_8.0</th>\n",
       "      <td>-0.065453</td>\n",
       "      <td>-1.104171e-02</td>\n",
       "      <td>0.058326</td>\n",
       "      <td>0.015414</td>\n",
       "      <td>-0.015414</td>\n",
       "      <td>-0.047580</td>\n",
       "      <td>-0.043070</td>\n",
       "      <td>0.076459</td>\n",
       "      <td>-0.121500</td>\n",
       "      <td>-0.047189</td>\n",
       "      <td>...</td>\n",
       "      <td>-0.032118</td>\n",
       "      <td>0.270701</td>\n",
       "      <td>-0.006520</td>\n",
       "      <td>-0.005642</td>\n",
       "      <td>-0.005642</td>\n",
       "      <td>-0.003252</td>\n",
       "      <td>-3.252323e-03</td>\n",
       "      <td>-0.042379</td>\n",
       "      <td>-0.026774</td>\n",
       "      <td>0.054450</td>\n",
       "    </tr>\n",
       "    <tr>\n",
       "      <th>parch_0.0</th>\n",
       "      <td>-0.172763</td>\n",
       "      <td>2.245099e-01</td>\n",
       "      <td>-0.243048</td>\n",
       "      <td>-0.240135</td>\n",
       "      <td>0.240135</td>\n",
       "      <td>-0.022179</td>\n",
       "      <td>-0.026854</td>\n",
       "      <td>0.041195</td>\n",
       "      <td>0.417706</td>\n",
       "      <td>-0.257139</td>\n",
       "      <td>...</td>\n",
       "      <td>-0.697997</td>\n",
       "      <td>-0.555359</td>\n",
       "      <td>-0.141684</td>\n",
       "      <td>-0.122608</td>\n",
       "      <td>-0.122608</td>\n",
       "      <td>-0.070679</td>\n",
       "      <td>-7.067933e-02</td>\n",
       "      <td>-0.047781</td>\n",
       "      <td>0.122487</td>\n",
       "      <td>-0.035786</td>\n",
       "    </tr>\n",
       "    <tr>\n",
       "      <th>parch_1.0</th>\n",
       "      <td>0.163523</td>\n",
       "      <td>-1.387777e-01</td>\n",
       "      <td>0.125358</td>\n",
       "      <td>0.130612</td>\n",
       "      <td>-0.130612</td>\n",
       "      <td>0.042605</td>\n",
       "      <td>0.039238</td>\n",
       "      <td>-0.069015</td>\n",
       "      <td>-0.310701</td>\n",
       "      <td>0.257232</td>\n",
       "      <td>...</td>\n",
       "      <td>1.000000</td>\n",
       "      <td>-0.118649</td>\n",
       "      <td>-0.030270</td>\n",
       "      <td>-0.026194</td>\n",
       "      <td>-0.026194</td>\n",
       "      <td>-0.015100</td>\n",
       "      <td>-1.510022e-02</td>\n",
       "      <td>0.089635</td>\n",
       "      <td>-0.069793</td>\n",
       "      <td>-0.034699</td>\n",
       "    </tr>\n",
       "    <tr>\n",
       "      <th>parch_2.0</th>\n",
       "      <td>0.077120</td>\n",
       "      <td>-2.234224e-01</td>\n",
       "      <td>0.166706</td>\n",
       "      <td>0.163591</td>\n",
       "      <td>-0.163591</td>\n",
       "      <td>-0.005437</td>\n",
       "      <td>0.007365</td>\n",
       "      <td>-0.001333</td>\n",
       "      <td>-0.198003</td>\n",
       "      <td>0.009396</td>\n",
       "      <td>...</td>\n",
       "      <td>-0.118649</td>\n",
       "      <td>1.000000</td>\n",
       "      <td>-0.024084</td>\n",
       "      <td>-0.020842</td>\n",
       "      <td>-0.020842</td>\n",
       "      <td>-0.012014</td>\n",
       "      <td>-1.201443e-02</td>\n",
       "      <td>-0.022115</td>\n",
       "      <td>-0.089583</td>\n",
       "      <td>0.076541</td>\n",
       "    </tr>\n",
       "    <tr>\n",
       "      <th>parch_3.0</th>\n",
       "      <td>0.039123</td>\n",
       "      <td>5.476385e-02</td>\n",
       "      <td>0.080954</td>\n",
       "      <td>0.064557</td>\n",
       "      <td>-0.064557</td>\n",
       "      <td>0.000625</td>\n",
       "      <td>0.031396</td>\n",
       "      <td>-0.026271</td>\n",
       "      <td>-0.072466</td>\n",
       "      <td>0.069672</td>\n",
       "      <td>...</td>\n",
       "      <td>-0.030270</td>\n",
       "      <td>-0.024084</td>\n",
       "      <td>1.000000</td>\n",
       "      <td>-0.005317</td>\n",
       "      <td>-0.005317</td>\n",
       "      <td>-0.003065</td>\n",
       "      <td>-3.065142e-03</td>\n",
       "      <td>0.032728</td>\n",
       "      <td>-0.025233</td>\n",
       "      <td>-0.012829</td>\n",
       "    </tr>\n",
       "    <tr>\n",
       "      <th>parch_4.0</th>\n",
       "      <td>-0.030117</td>\n",
       "      <td>7.780358e-02</td>\n",
       "      <td>0.093718</td>\n",
       "      <td>0.044058</td>\n",
       "      <td>-0.044058</td>\n",
       "      <td>0.013656</td>\n",
       "      <td>-0.035126</td>\n",
       "      <td>0.016975</td>\n",
       "      <td>-0.050582</td>\n",
       "      <td>0.066877</td>\n",
       "      <td>...</td>\n",
       "      <td>-0.026194</td>\n",
       "      <td>-0.020842</td>\n",
       "      <td>-0.005317</td>\n",
       "      <td>1.000000</td>\n",
       "      <td>-0.004601</td>\n",
       "      <td>-0.002652</td>\n",
       "      <td>-2.652455e-03</td>\n",
       "      <td>-0.034562</td>\n",
       "      <td>-0.021836</td>\n",
       "      <td>0.044407</td>\n",
       "    </tr>\n",
       "    <tr>\n",
       "      <th>parch_5.0</th>\n",
       "      <td>-0.030117</td>\n",
       "      <td>4.980555e-02</td>\n",
       "      <td>-0.001232</td>\n",
       "      <td>0.044058</td>\n",
       "      <td>-0.044058</td>\n",
       "      <td>-0.038804</td>\n",
       "      <td>-0.035126</td>\n",
       "      <td>0.062357</td>\n",
       "      <td>-0.050582</td>\n",
       "      <td>0.066877</td>\n",
       "      <td>...</td>\n",
       "      <td>-0.026194</td>\n",
       "      <td>-0.020842</td>\n",
       "      <td>-0.005317</td>\n",
       "      <td>-0.004601</td>\n",
       "      <td>1.000000</td>\n",
       "      <td>-0.002652</td>\n",
       "      <td>-2.652455e-03</td>\n",
       "      <td>-0.034562</td>\n",
       "      <td>0.016924</td>\n",
       "      <td>0.019736</td>\n",
       "    </tr>\n",
       "    <tr>\n",
       "      <th>parch_6.0</th>\n",
       "      <td>-0.030772</td>\n",
       "      <td>3.529254e-02</td>\n",
       "      <td>0.010290</td>\n",
       "      <td>0.011784</td>\n",
       "      <td>-0.011784</td>\n",
       "      <td>-0.022369</td>\n",
       "      <td>-0.020249</td>\n",
       "      <td>0.035947</td>\n",
       "      <td>-0.057122</td>\n",
       "      <td>0.068921</td>\n",
       "      <td>...</td>\n",
       "      <td>-0.015100</td>\n",
       "      <td>-0.012014</td>\n",
       "      <td>-0.003065</td>\n",
       "      <td>-0.002652</td>\n",
       "      <td>-0.002652</td>\n",
       "      <td>1.000000</td>\n",
       "      <td>-1.529052e-03</td>\n",
       "      <td>-0.019924</td>\n",
       "      <td>-0.012587</td>\n",
       "      <td>0.025599</td>\n",
       "    </tr>\n",
       "    <tr>\n",
       "      <th>parch_9.0</th>\n",
       "      <td>-0.030772</td>\n",
       "      <td>-1.383376e-17</td>\n",
       "      <td>0.027421</td>\n",
       "      <td>0.011784</td>\n",
       "      <td>-0.011784</td>\n",
       "      <td>-0.022369</td>\n",
       "      <td>-0.020249</td>\n",
       "      <td>0.035947</td>\n",
       "      <td>-0.057122</td>\n",
       "      <td>0.068921</td>\n",
       "      <td>...</td>\n",
       "      <td>-0.015100</td>\n",
       "      <td>-0.012014</td>\n",
       "      <td>-0.003065</td>\n",
       "      <td>-0.002652</td>\n",
       "      <td>-0.002652</td>\n",
       "      <td>-0.001529</td>\n",
       "      <td>1.000000e+00</td>\n",
       "      <td>-0.019924</td>\n",
       "      <td>-0.012587</td>\n",
       "      <td>0.025599</td>\n",
       "    </tr>\n",
       "    <tr>\n",
       "      <th>embarked_C</th>\n",
       "      <td>0.181498</td>\n",
       "      <td>7.617144e-02</td>\n",
       "      <td>0.286212</td>\n",
       "      <td>0.066832</td>\n",
       "      <td>-0.066832</td>\n",
       "      <td>0.325871</td>\n",
       "      <td>-0.134447</td>\n",
       "      <td>-0.171716</td>\n",
       "      <td>-0.052013</td>\n",
       "      <td>0.106632</td>\n",
       "      <td>...</td>\n",
       "      <td>0.089635</td>\n",
       "      <td>-0.022115</td>\n",
       "      <td>0.032728</td>\n",
       "      <td>-0.034562</td>\n",
       "      <td>-0.034562</td>\n",
       "      <td>-0.019924</td>\n",
       "      <td>-1.992399e-02</td>\n",
       "      <td>1.000000</td>\n",
       "      <td>-0.164018</td>\n",
       "      <td>-0.778312</td>\n",
       "    </tr>\n",
       "    <tr>\n",
       "      <th>embarked_Q</th>\n",
       "      <td>-0.016373</td>\n",
       "      <td>-1.271757e-02</td>\n",
       "      <td>-0.130049</td>\n",
       "      <td>0.088812</td>\n",
       "      <td>-0.088812</td>\n",
       "      <td>-0.165933</td>\n",
       "      <td>-0.121828</td>\n",
       "      <td>0.243392</td>\n",
       "      <td>0.091223</td>\n",
       "      <td>-0.097269</td>\n",
       "      <td>...</td>\n",
       "      <td>-0.069793</td>\n",
       "      <td>-0.089583</td>\n",
       "      <td>-0.025233</td>\n",
       "      <td>-0.021836</td>\n",
       "      <td>0.016924</td>\n",
       "      <td>-0.012587</td>\n",
       "      <td>-1.258747e-02</td>\n",
       "      <td>-0.164018</td>\n",
       "      <td>1.000000</td>\n",
       "      <td>-0.491717</td>\n",
       "    </tr>\n",
       "    <tr>\n",
       "      <th>embarked_S</th>\n",
       "      <td>-0.149789</td>\n",
       "      <td>-5.914252e-02</td>\n",
       "      <td>-0.169866</td>\n",
       "      <td>-0.115522</td>\n",
       "      <td>0.115522</td>\n",
       "      <td>-0.182034</td>\n",
       "      <td>0.196221</td>\n",
       "      <td>-0.003343</td>\n",
       "      <td>-0.012151</td>\n",
       "      <td>-0.032213</td>\n",
       "      <td>...</td>\n",
       "      <td>-0.034699</td>\n",
       "      <td>0.076541</td>\n",
       "      <td>-0.012829</td>\n",
       "      <td>0.044407</td>\n",
       "      <td>0.019736</td>\n",
       "      <td>0.025599</td>\n",
       "      <td>2.559898e-02</td>\n",
       "      <td>-0.778312</td>\n",
       "      <td>-0.491717</td>\n",
       "      <td>1.000000</td>\n",
       "    </tr>\n",
       "  </tbody>\n",
       "</table>\n",
       "<p>26 rows × 26 columns</p>\n",
       "</div>"
      ],
      "text/plain": [
       "            survived           age      fare  sex_female  sex_male  \\\n",
       "survived    1.000000 -5.016801e-02  0.244057    0.527534 -0.527534   \n",
       "age        -0.050168  1.000000e+00  0.171521   -0.057386  0.057386   \n",
       "fare        0.244057  1.715206e-01  1.000000    0.185445 -0.185445   \n",
       "sex_female  0.527534 -5.738563e-02  0.185445    1.000000 -1.000000   \n",
       "sex_male   -0.527534  5.738563e-02 -0.185445   -1.000000  1.000000   \n",
       "pclass_1.0  0.278686  3.625414e-01  0.599881    0.107659 -0.107659   \n",
       "pclass_2.0  0.050251 -1.419151e-02 -0.121360    0.029147 -0.029147   \n",
       "pclass_3.0 -0.282269 -3.019955e-01 -0.419481   -0.117022  0.117022   \n",
       "sibsp_0.0  -0.104933  9.068370e-02 -0.211728   -0.189198  0.189198   \n",
       "sibsp_1.0   0.150051  4.552753e-02  0.169176    0.172842 -0.172842   \n",
       "sibsp_2.0   0.026191 -7.648424e-02  0.055075    0.036745 -0.036745   \n",
       "sibsp_3.0  -0.021123 -1.049915e-01  0.091609    0.063534 -0.063534   \n",
       "sibsp_4.0  -0.066177 -2.142974e-01 -0.006828   -0.010249  0.010249   \n",
       "sibsp_5.0  -0.053380 -1.038795e-01  0.017850   -0.003173  0.003173   \n",
       "sibsp_8.0  -0.065453 -1.104171e-02  0.058326    0.015414 -0.015414   \n",
       "parch_0.0  -0.172763  2.245099e-01 -0.243048   -0.240135  0.240135   \n",
       "parch_1.0   0.163523 -1.387777e-01  0.125358    0.130612 -0.130612   \n",
       "parch_2.0   0.077120 -2.234224e-01  0.166706    0.163591 -0.163591   \n",
       "parch_3.0   0.039123  5.476385e-02  0.080954    0.064557 -0.064557   \n",
       "parch_4.0  -0.030117  7.780358e-02  0.093718    0.044058 -0.044058   \n",
       "parch_5.0  -0.030117  4.980555e-02 -0.001232    0.044058 -0.044058   \n",
       "parch_6.0  -0.030772  3.529254e-02  0.010290    0.011784 -0.011784   \n",
       "parch_9.0  -0.030772 -1.383376e-17  0.027421    0.011784 -0.011784   \n",
       "embarked_C  0.181498  7.617144e-02  0.286212    0.066832 -0.066832   \n",
       "embarked_Q -0.016373 -1.271757e-02 -0.130049    0.088812 -0.088812   \n",
       "embarked_S -0.149789 -5.914252e-02 -0.169866   -0.115522  0.115522   \n",
       "\n",
       "            pclass_1.0  pclass_2.0  pclass_3.0  sibsp_0.0  sibsp_1.0  \\\n",
       "survived      0.278686    0.050251   -0.282269  -0.104933   0.150051   \n",
       "age           0.362541   -0.014192   -0.301996   0.090684   0.045528   \n",
       "fare          0.599881   -0.121360   -0.419481  -0.211728   0.169176   \n",
       "sex_female    0.107659    0.029147   -0.117022  -0.189198   0.172842   \n",
       "sex_male     -0.107659   -0.029147    0.117022   0.189198  -0.172842   \n",
       "pclass_1.0    1.000000   -0.296232   -0.622295  -0.083348   0.141727   \n",
       "pclass_2.0   -0.296232    1.000000   -0.563305  -0.026525   0.063363   \n",
       "pclass_3.0   -0.622295   -0.563305    1.000000   0.093842  -0.174535   \n",
       "sibsp_0.0    -0.083348   -0.026525    0.093842   1.000000  -0.828806   \n",
       "sibsp_1.0     0.141727    0.063363   -0.174535  -0.828806   1.000000   \n",
       "sibsp_2.0    -0.023684    0.033100   -0.006639  -0.265864  -0.103258   \n",
       "sibsp_3.0    -0.013452   -0.049231    0.051985  -0.181892  -0.070645   \n",
       "sibsp_4.0    -0.074765   -0.067677    0.120143  -0.190918  -0.074150   \n",
       "sibsp_5.0    -0.038804   -0.035126    0.062357  -0.099090  -0.038485   \n",
       "sibsp_8.0    -0.047580   -0.043070    0.076459  -0.121500  -0.047189   \n",
       "parch_0.0    -0.022179   -0.026854    0.041195   0.417706  -0.257139   \n",
       "parch_1.0     0.042605    0.039238   -0.069015  -0.310701   0.257232   \n",
       "parch_2.0    -0.005437    0.007365   -0.001333  -0.198003   0.009396   \n",
       "parch_3.0     0.000625    0.031396   -0.026271  -0.072466   0.069672   \n",
       "parch_4.0     0.013656   -0.035126    0.016975  -0.050582   0.066877   \n",
       "parch_5.0    -0.038804   -0.035126    0.062357  -0.050582   0.066877   \n",
       "parch_6.0    -0.022369   -0.020249    0.035947  -0.057122   0.068921   \n",
       "parch_9.0    -0.022369   -0.020249    0.035947  -0.057122   0.068921   \n",
       "embarked_C    0.325871   -0.134447   -0.171716  -0.052013   0.106632   \n",
       "embarked_Q   -0.165933   -0.121828    0.243392   0.091223  -0.097269   \n",
       "embarked_S   -0.182034    0.196221   -0.003343  -0.012151  -0.032213   \n",
       "\n",
       "               ...      parch_1.0  parch_2.0  parch_3.0  parch_4.0  parch_5.0  \\\n",
       "survived       ...       0.163523   0.077120   0.039123  -0.030117  -0.030117   \n",
       "age            ...      -0.138778  -0.223422   0.054764   0.077804   0.049806   \n",
       "fare           ...       0.125358   0.166706   0.080954   0.093718  -0.001232   \n",
       "sex_female     ...       0.130612   0.163591   0.064557   0.044058   0.044058   \n",
       "sex_male       ...      -0.130612  -0.163591  -0.064557  -0.044058  -0.044058   \n",
       "pclass_1.0     ...       0.042605  -0.005437   0.000625   0.013656  -0.038804   \n",
       "pclass_2.0     ...       0.039238   0.007365   0.031396  -0.035126  -0.035126   \n",
       "pclass_3.0     ...      -0.069015  -0.001333  -0.026271   0.016975   0.062357   \n",
       "sibsp_0.0      ...      -0.310701  -0.198003  -0.072466  -0.050582  -0.050582   \n",
       "sibsp_1.0      ...       0.257232   0.009396   0.069672   0.066877   0.066877   \n",
       "sibsp_2.0      ...       0.045771   0.036690   0.041355  -0.012345  -0.012345   \n",
       "sibsp_3.0      ...       0.118652   0.139148  -0.009760  -0.008446  -0.008446   \n",
       "sibsp_4.0      ...       0.126308   0.213764  -0.010245  -0.008865  -0.008865   \n",
       "sibsp_5.0      ...      -0.026194   0.220772  -0.005317  -0.004601  -0.004601   \n",
       "sibsp_8.0      ...      -0.032118   0.270701  -0.006520  -0.005642  -0.005642   \n",
       "parch_0.0      ...      -0.697997  -0.555359  -0.141684  -0.122608  -0.122608   \n",
       "parch_1.0      ...       1.000000  -0.118649  -0.030270  -0.026194  -0.026194   \n",
       "parch_2.0      ...      -0.118649   1.000000  -0.024084  -0.020842  -0.020842   \n",
       "parch_3.0      ...      -0.030270  -0.024084   1.000000  -0.005317  -0.005317   \n",
       "parch_4.0      ...      -0.026194  -0.020842  -0.005317   1.000000  -0.004601   \n",
       "parch_5.0      ...      -0.026194  -0.020842  -0.005317  -0.004601   1.000000   \n",
       "parch_6.0      ...      -0.015100  -0.012014  -0.003065  -0.002652  -0.002652   \n",
       "parch_9.0      ...      -0.015100  -0.012014  -0.003065  -0.002652  -0.002652   \n",
       "embarked_C     ...       0.089635  -0.022115   0.032728  -0.034562  -0.034562   \n",
       "embarked_Q     ...      -0.069793  -0.089583  -0.025233  -0.021836   0.016924   \n",
       "embarked_S     ...      -0.034699   0.076541  -0.012829   0.044407   0.019736   \n",
       "\n",
       "            parch_6.0     parch_9.0  embarked_C  embarked_Q  embarked_S  \n",
       "survived    -0.030772 -3.077200e-02    0.181498   -0.016373   -0.149789  \n",
       "age          0.035293 -1.383376e-17    0.076171   -0.012718   -0.059143  \n",
       "fare         0.010290  2.742130e-02    0.286212   -0.130049   -0.169866  \n",
       "sex_female   0.011784  1.178443e-02    0.066832    0.088812   -0.115522  \n",
       "sex_male    -0.011784 -1.178443e-02   -0.066832   -0.088812    0.115522  \n",
       "pclass_1.0  -0.022369 -2.236937e-02    0.325871   -0.165933   -0.182034  \n",
       "pclass_2.0  -0.020249 -2.024887e-02   -0.134447   -0.121828    0.196221  \n",
       "pclass_3.0   0.035947  3.594658e-02   -0.171716    0.243392   -0.003343  \n",
       "sibsp_0.0   -0.057122 -5.712226e-02   -0.052013    0.091223   -0.012151  \n",
       "sibsp_1.0    0.068921  6.892117e-02    0.106632   -0.097269   -0.032213  \n",
       "sibsp_2.0   -0.007117 -7.116659e-03    0.003680    0.000839   -0.003782  \n",
       "sibsp_3.0   -0.004869 -4.868905e-03   -0.063443   -0.040082    0.081514  \n",
       "sibsp_4.0   -0.005111 -5.110513e-03   -0.066591    0.059764    0.020742  \n",
       "sibsp_5.0   -0.002652 -2.652455e-03   -0.034562   -0.021836    0.044407  \n",
       "sibsp_8.0   -0.003252 -3.252323e-03   -0.042379   -0.026774    0.054450  \n",
       "parch_0.0   -0.070679 -7.067933e-02   -0.047781    0.122487   -0.035786  \n",
       "parch_1.0   -0.015100 -1.510022e-02    0.089635   -0.069793   -0.034699  \n",
       "parch_2.0   -0.012014 -1.201443e-02   -0.022115   -0.089583    0.076541  \n",
       "parch_3.0   -0.003065 -3.065142e-03    0.032728   -0.025233   -0.012829  \n",
       "parch_4.0   -0.002652 -2.652455e-03   -0.034562   -0.021836    0.044407  \n",
       "parch_5.0   -0.002652 -2.652455e-03   -0.034562    0.016924    0.019736  \n",
       "parch_6.0    1.000000 -1.529052e-03   -0.019924   -0.012587    0.025599  \n",
       "parch_9.0   -0.001529  1.000000e+00   -0.019924   -0.012587    0.025599  \n",
       "embarked_C  -0.019924 -1.992399e-02    1.000000   -0.164018   -0.778312  \n",
       "embarked_Q  -0.012587 -1.258747e-02   -0.164018    1.000000   -0.491717  \n",
       "embarked_S   0.025599  2.559898e-02   -0.778312   -0.491717    1.000000  \n",
       "\n",
       "[26 rows x 26 columns]"
      ]
     },
     "execution_count": 90,
     "metadata": {},
     "output_type": "execute_result"
    }
   ],
   "source": [
    "data2.corr()"
   ]
  },
  {
   "cell_type": "code",
   "execution_count": 91,
   "metadata": {},
   "outputs": [],
   "source": [
    "X = data2.iloc[:,1:]\n",
    "y = data2.iloc[:,0]"
   ]
  },
  {
   "cell_type": "code",
   "execution_count": 92,
   "metadata": {},
   "outputs": [],
   "source": [
    "X_train, X_test, y_train, y_test = train_test_split(X, y, random_state=0)"
   ]
  },
  {
   "cell_type": "code",
   "execution_count": 93,
   "metadata": {},
   "outputs": [
    {
     "data": {
      "text/plain": [
       "LogisticRegression(C=1.0, class_weight=None, dual=False, fit_intercept=True,\n",
       "          intercept_scaling=1, max_iter=100, multi_class='ovr', n_jobs=1,\n",
       "          penalty='l2', random_state=0, solver='liblinear', tol=0.0001,\n",
       "          verbose=0, warm_start=False)"
      ]
     },
     "execution_count": 93,
     "metadata": {},
     "output_type": "execute_result"
    }
   ],
   "source": [
    "classifier = LogisticRegression(random_state=0)\n",
    "classifier.fit(X_train, y_train)"
   ]
  },
  {
   "cell_type": "code",
   "execution_count": 94,
   "metadata": {},
   "outputs": [],
   "source": [
    "y_pred = classifier.predict(X_test)"
   ]
  },
  {
   "cell_type": "code",
   "execution_count": 95,
   "metadata": {},
   "outputs": [
    {
     "name": "stdout",
     "output_type": "stream",
     "text": [
      "[[184  24]\n",
      " [ 38  82]]\n"
     ]
    }
   ],
   "source": [
    "from sklearn.metrics import confusion_matrix\n",
    "confusion_matrix = confusion_matrix(y_test.round(), y_pred.round())\n",
    "print(confusion_matrix)"
   ]
  },
  {
   "cell_type": "code",
   "execution_count": 96,
   "metadata": {},
   "outputs": [
    {
     "name": "stdout",
     "output_type": "stream",
     "text": [
      "Accuracy of logistic regression classifier on test set: 0.81\n"
     ]
    }
   ],
   "source": [
    "print('Accuracy of logistic regression classifier on test set: {:.2f}'.format(classifier.score(X_test, y_test)))"
   ]
  },
  {
   "cell_type": "code",
   "execution_count": null,
   "metadata": {},
   "outputs": [],
   "source": []
  }
 ],
 "metadata": {
  "kernelspec": {
   "display_name": "Python 3",
   "language": "python",
   "name": "python3"
  },
  "language_info": {
   "codemirror_mode": {
    "name": "ipython",
    "version": 3
   },
   "file_extension": ".py",
   "mimetype": "text/x-python",
   "name": "python",
   "nbconvert_exporter": "python",
   "pygments_lexer": "ipython3",
   "version": "3.6.4"
  }
 },
 "nbformat": 4,
 "nbformat_minor": 2
}
